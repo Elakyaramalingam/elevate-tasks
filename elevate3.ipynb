{
 "cells": [
  {
   "cell_type": "code",
   "execution_count": 1,
   "id": "7092d0e7",
   "metadata": {
    "_cell_guid": "b1076dfc-b9ad-4769-8c92-a6c4dae69d19",
    "_uuid": "8f2839f25d086af736a60e9eeb907d3b93b6e0e5",
    "execution": {
     "iopub.execute_input": "2024-04-10T16:08:49.437678Z",
     "iopub.status.busy": "2024-04-10T16:08:49.437241Z",
     "iopub.status.idle": "2024-04-10T16:08:50.572870Z",
     "shell.execute_reply": "2024-04-10T16:08:50.571535Z"
    },
    "papermill": {
     "duration": 1.152863,
     "end_time": "2024-04-10T16:08:50.575888",
     "exception": false,
     "start_time": "2024-04-10T16:08:49.423025",
     "status": "completed"
    },
    "tags": []
   },
   "outputs": [
    {
     "name": "stdout",
     "output_type": "stream",
     "text": [
      "/kaggle/input/housing-price-prediction/Housing.csv\n"
     ]
    }
   ],
   "source": [
    "# This Python 3 environment comes with many helpful analytics libraries installed\n",
    "# It is defined by the kaggle/python Docker image: https://github.com/kaggle/docker-python\n",
    "# For example, here's several helpful packages to load\n",
    "\n",
    "import numpy as np # linear algebra\n",
    "import pandas as pd # data processing, CSV file I/O (e.g. pd.read_csv)\n",
    "\n",
    "# Input data files are available in the read-only \"../input/\" directory\n",
    "# For example, running this (by clicking run or pressing Shift+Enter) will list all files under the input directory\n",
    "\n",
    "import os\n",
    "for dirname, _, filenames in os.walk('/kaggle/input'):\n",
    "    for filename in filenames:\n",
    "        print(os.path.join(dirname, filename))\n",
    "\n",
    "# You can write up to 20GB to the current directory (/kaggle/working/) that gets preserved as output when you create a version using \"Save & Run All\" \n",
    "# You can also write temporary files to /kaggle/temp/, but they won't be saved outside of the current session"
   ]
  },
  {
   "cell_type": "markdown",
   "id": "872c6912",
   "metadata": {
    "papermill": {
     "duration": 0.011763,
     "end_time": "2024-04-10T16:08:50.600866",
     "exception": false,
     "start_time": "2024-04-10T16:08:50.589103",
     "status": "completed"
    },
    "tags": []
   },
   "source": [
    "# Note\n",
    "\n",
    "This note is created with the purpose of familiarizing myself with simple and mutiple linear regression code implementation. While achieving the highest accuracy possible is often a primary goal in machine learning tasks, it's important to note that the main objective here is to gain practical experience in building and evaluating the models.\n",
    "\n",
    "Any advice or suggestions for improvement are welcome and appreciated. The ultimate aim is to gain proficiency and enhance my understanding of machine learning algorithms. Thank you!!!"
   ]
  },
  {
   "cell_type": "markdown",
   "id": "b8e7c270",
   "metadata": {
    "papermill": {
     "duration": 0.011332,
     "end_time": "2024-04-10T16:08:50.624627",
     "exception": false,
     "start_time": "2024-04-10T16:08:50.613295",
     "status": "completed"
    },
    "tags": []
   },
   "source": [
    "# 1. Exploratory Data Analysis(EDA) - Understanding the Dataset"
   ]
  },
  {
   "cell_type": "code",
   "execution_count": 2,
   "id": "605dc7be",
   "metadata": {
    "execution": {
     "iopub.execute_input": "2024-04-10T16:08:50.651681Z",
     "iopub.status.busy": "2024-04-10T16:08:50.651020Z",
     "iopub.status.idle": "2024-04-10T16:08:52.965253Z",
     "shell.execute_reply": "2024-04-10T16:08:52.963888Z"
    },
    "papermill": {
     "duration": 2.331201,
     "end_time": "2024-04-10T16:08:52.968520",
     "exception": false,
     "start_time": "2024-04-10T16:08:50.637319",
     "status": "completed"
    },
    "tags": []
   },
   "outputs": [],
   "source": [
    "# import Python libaries\n",
    "import pandas as pd\n",
    "import matplotlib.pyplot as plt\n",
    "import seaborn as sns\n",
    "from sklearn.model_selection import train_test_split\n",
    "from sklearn.linear_model import LinearRegression\n",
    "from sklearn.metrics import mean_squared_error, r2_score\n"
   ]
  },
  {
   "cell_type": "code",
   "execution_count": 3,
   "id": "217330f4",
   "metadata": {
    "execution": {
     "iopub.execute_input": "2024-04-10T16:08:52.995256Z",
     "iopub.status.busy": "2024-04-10T16:08:52.994754Z",
     "iopub.status.idle": "2024-04-10T16:08:53.020832Z",
     "shell.execute_reply": "2024-04-10T16:08:53.019266Z"
    },
    "papermill": {
     "duration": 0.043825,
     "end_time": "2024-04-10T16:08:53.024760",
     "exception": false,
     "start_time": "2024-04-10T16:08:52.980935",
     "status": "completed"
    },
    "tags": []
   },
   "outputs": [],
   "source": [
    "# load the dataset\n",
    "data = pd.read_csv(\"/kaggle/input/housing-price-prediction/Housing.csv\")"
   ]
  },
  {
   "cell_type": "code",
   "execution_count": 4,
   "id": "d09ae642",
   "metadata": {
    "execution": {
     "iopub.execute_input": "2024-04-10T16:08:53.060055Z",
     "iopub.status.busy": "2024-04-10T16:08:53.059024Z",
     "iopub.status.idle": "2024-04-10T16:08:53.093715Z",
     "shell.execute_reply": "2024-04-10T16:08:53.092212Z"
    },
    "papermill": {
     "duration": 0.055845,
     "end_time": "2024-04-10T16:08:53.096820",
     "exception": false,
     "start_time": "2024-04-10T16:08:53.040975",
     "status": "completed"
    },
    "tags": []
   },
   "outputs": [
    {
     "data": {
      "text/html": [
       "<div>\n",
       "<style scoped>\n",
       "    .dataframe tbody tr th:only-of-type {\n",
       "        vertical-align: middle;\n",
       "    }\n",
       "\n",
       "    .dataframe tbody tr th {\n",
       "        vertical-align: top;\n",
       "    }\n",
       "\n",
       "    .dataframe thead th {\n",
       "        text-align: right;\n",
       "    }\n",
       "</style>\n",
       "<table border=\"1\" class=\"dataframe\">\n",
       "  <thead>\n",
       "    <tr style=\"text-align: right;\">\n",
       "      <th></th>\n",
       "      <th>price</th>\n",
       "      <th>area</th>\n",
       "      <th>bedrooms</th>\n",
       "      <th>bathrooms</th>\n",
       "      <th>stories</th>\n",
       "      <th>mainroad</th>\n",
       "      <th>guestroom</th>\n",
       "      <th>basement</th>\n",
       "      <th>hotwaterheating</th>\n",
       "      <th>airconditioning</th>\n",
       "      <th>parking</th>\n",
       "      <th>prefarea</th>\n",
       "      <th>furnishingstatus</th>\n",
       "    </tr>\n",
       "  </thead>\n",
       "  <tbody>\n",
       "    <tr>\n",
       "      <th>0</th>\n",
       "      <td>13300000</td>\n",
       "      <td>7420</td>\n",
       "      <td>4</td>\n",
       "      <td>2</td>\n",
       "      <td>3</td>\n",
       "      <td>yes</td>\n",
       "      <td>no</td>\n",
       "      <td>no</td>\n",
       "      <td>no</td>\n",
       "      <td>yes</td>\n",
       "      <td>2</td>\n",
       "      <td>yes</td>\n",
       "      <td>furnished</td>\n",
       "    </tr>\n",
       "    <tr>\n",
       "      <th>1</th>\n",
       "      <td>12250000</td>\n",
       "      <td>8960</td>\n",
       "      <td>4</td>\n",
       "      <td>4</td>\n",
       "      <td>4</td>\n",
       "      <td>yes</td>\n",
       "      <td>no</td>\n",
       "      <td>no</td>\n",
       "      <td>no</td>\n",
       "      <td>yes</td>\n",
       "      <td>3</td>\n",
       "      <td>no</td>\n",
       "      <td>furnished</td>\n",
       "    </tr>\n",
       "    <tr>\n",
       "      <th>2</th>\n",
       "      <td>12250000</td>\n",
       "      <td>9960</td>\n",
       "      <td>3</td>\n",
       "      <td>2</td>\n",
       "      <td>2</td>\n",
       "      <td>yes</td>\n",
       "      <td>no</td>\n",
       "      <td>yes</td>\n",
       "      <td>no</td>\n",
       "      <td>no</td>\n",
       "      <td>2</td>\n",
       "      <td>yes</td>\n",
       "      <td>semi-furnished</td>\n",
       "    </tr>\n",
       "    <tr>\n",
       "      <th>3</th>\n",
       "      <td>12215000</td>\n",
       "      <td>7500</td>\n",
       "      <td>4</td>\n",
       "      <td>2</td>\n",
       "      <td>2</td>\n",
       "      <td>yes</td>\n",
       "      <td>no</td>\n",
       "      <td>yes</td>\n",
       "      <td>no</td>\n",
       "      <td>yes</td>\n",
       "      <td>3</td>\n",
       "      <td>yes</td>\n",
       "      <td>furnished</td>\n",
       "    </tr>\n",
       "    <tr>\n",
       "      <th>4</th>\n",
       "      <td>11410000</td>\n",
       "      <td>7420</td>\n",
       "      <td>4</td>\n",
       "      <td>1</td>\n",
       "      <td>2</td>\n",
       "      <td>yes</td>\n",
       "      <td>yes</td>\n",
       "      <td>yes</td>\n",
       "      <td>no</td>\n",
       "      <td>yes</td>\n",
       "      <td>2</td>\n",
       "      <td>no</td>\n",
       "      <td>furnished</td>\n",
       "    </tr>\n",
       "  </tbody>\n",
       "</table>\n",
       "</div>"
      ],
      "text/plain": [
       "      price  area  bedrooms  bathrooms  stories mainroad guestroom basement  \\\n",
       "0  13300000  7420         4          2        3      yes        no       no   \n",
       "1  12250000  8960         4          4        4      yes        no       no   \n",
       "2  12250000  9960         3          2        2      yes        no      yes   \n",
       "3  12215000  7500         4          2        2      yes        no      yes   \n",
       "4  11410000  7420         4          1        2      yes       yes      yes   \n",
       "\n",
       "  hotwaterheating airconditioning  parking prefarea furnishingstatus  \n",
       "0              no             yes        2      yes        furnished  \n",
       "1              no             yes        3       no        furnished  \n",
       "2              no              no        2      yes   semi-furnished  \n",
       "3              no             yes        3      yes        furnished  \n",
       "4              no             yes        2       no        furnished  "
      ]
     },
     "execution_count": 4,
     "metadata": {},
     "output_type": "execute_result"
    }
   ],
   "source": [
    "data.head()"
   ]
  },
  {
   "cell_type": "code",
   "execution_count": 5,
   "id": "27636c80",
   "metadata": {
    "execution": {
     "iopub.execute_input": "2024-04-10T16:08:53.135706Z",
     "iopub.status.busy": "2024-04-10T16:08:53.134535Z",
     "iopub.status.idle": "2024-04-10T16:08:53.169666Z",
     "shell.execute_reply": "2024-04-10T16:08:53.167511Z"
    },
    "papermill": {
     "duration": 0.059032,
     "end_time": "2024-04-10T16:08:53.173819",
     "exception": false,
     "start_time": "2024-04-10T16:08:53.114787",
     "status": "completed"
    },
    "tags": []
   },
   "outputs": [
    {
     "name": "stdout",
     "output_type": "stream",
     "text": [
      "<class 'pandas.core.frame.DataFrame'>\n",
      "RangeIndex: 545 entries, 0 to 544\n",
      "Data columns (total 13 columns):\n",
      " #   Column            Non-Null Count  Dtype \n",
      "---  ------            --------------  ----- \n",
      " 0   price             545 non-null    int64 \n",
      " 1   area              545 non-null    int64 \n",
      " 2   bedrooms          545 non-null    int64 \n",
      " 3   bathrooms         545 non-null    int64 \n",
      " 4   stories           545 non-null    int64 \n",
      " 5   mainroad          545 non-null    object\n",
      " 6   guestroom         545 non-null    object\n",
      " 7   basement          545 non-null    object\n",
      " 8   hotwaterheating   545 non-null    object\n",
      " 9   airconditioning   545 non-null    object\n",
      " 10  parking           545 non-null    int64 \n",
      " 11  prefarea          545 non-null    object\n",
      " 12  furnishingstatus  545 non-null    object\n",
      "dtypes: int64(6), object(7)\n",
      "memory usage: 55.5+ KB\n"
     ]
    }
   ],
   "source": [
    "data.info()"
   ]
  },
  {
   "cell_type": "code",
   "execution_count": 6,
   "id": "2166d6fe",
   "metadata": {
    "execution": {
     "iopub.execute_input": "2024-04-10T16:08:53.203353Z",
     "iopub.status.busy": "2024-04-10T16:08:53.202895Z",
     "iopub.status.idle": "2024-04-10T16:08:53.238732Z",
     "shell.execute_reply": "2024-04-10T16:08:53.237573Z"
    },
    "papermill": {
     "duration": 0.052134,
     "end_time": "2024-04-10T16:08:53.241586",
     "exception": false,
     "start_time": "2024-04-10T16:08:53.189452",
     "status": "completed"
    },
    "tags": []
   },
   "outputs": [
    {
     "data": {
      "text/html": [
       "<div>\n",
       "<style scoped>\n",
       "    .dataframe tbody tr th:only-of-type {\n",
       "        vertical-align: middle;\n",
       "    }\n",
       "\n",
       "    .dataframe tbody tr th {\n",
       "        vertical-align: top;\n",
       "    }\n",
       "\n",
       "    .dataframe thead th {\n",
       "        text-align: right;\n",
       "    }\n",
       "</style>\n",
       "<table border=\"1\" class=\"dataframe\">\n",
       "  <thead>\n",
       "    <tr style=\"text-align: right;\">\n",
       "      <th></th>\n",
       "      <th>price</th>\n",
       "      <th>area</th>\n",
       "      <th>bedrooms</th>\n",
       "      <th>bathrooms</th>\n",
       "      <th>stories</th>\n",
       "      <th>parking</th>\n",
       "    </tr>\n",
       "  </thead>\n",
       "  <tbody>\n",
       "    <tr>\n",
       "      <th>count</th>\n",
       "      <td>5.450000e+02</td>\n",
       "      <td>545.000000</td>\n",
       "      <td>545.000000</td>\n",
       "      <td>545.000000</td>\n",
       "      <td>545.000000</td>\n",
       "      <td>545.000000</td>\n",
       "    </tr>\n",
       "    <tr>\n",
       "      <th>mean</th>\n",
       "      <td>4.766729e+06</td>\n",
       "      <td>5150.541284</td>\n",
       "      <td>2.965138</td>\n",
       "      <td>1.286239</td>\n",
       "      <td>1.805505</td>\n",
       "      <td>0.693578</td>\n",
       "    </tr>\n",
       "    <tr>\n",
       "      <th>std</th>\n",
       "      <td>1.870440e+06</td>\n",
       "      <td>2170.141023</td>\n",
       "      <td>0.738064</td>\n",
       "      <td>0.502470</td>\n",
       "      <td>0.867492</td>\n",
       "      <td>0.861586</td>\n",
       "    </tr>\n",
       "    <tr>\n",
       "      <th>min</th>\n",
       "      <td>1.750000e+06</td>\n",
       "      <td>1650.000000</td>\n",
       "      <td>1.000000</td>\n",
       "      <td>1.000000</td>\n",
       "      <td>1.000000</td>\n",
       "      <td>0.000000</td>\n",
       "    </tr>\n",
       "    <tr>\n",
       "      <th>25%</th>\n",
       "      <td>3.430000e+06</td>\n",
       "      <td>3600.000000</td>\n",
       "      <td>2.000000</td>\n",
       "      <td>1.000000</td>\n",
       "      <td>1.000000</td>\n",
       "      <td>0.000000</td>\n",
       "    </tr>\n",
       "    <tr>\n",
       "      <th>50%</th>\n",
       "      <td>4.340000e+06</td>\n",
       "      <td>4600.000000</td>\n",
       "      <td>3.000000</td>\n",
       "      <td>1.000000</td>\n",
       "      <td>2.000000</td>\n",
       "      <td>0.000000</td>\n",
       "    </tr>\n",
       "    <tr>\n",
       "      <th>75%</th>\n",
       "      <td>5.740000e+06</td>\n",
       "      <td>6360.000000</td>\n",
       "      <td>3.000000</td>\n",
       "      <td>2.000000</td>\n",
       "      <td>2.000000</td>\n",
       "      <td>1.000000</td>\n",
       "    </tr>\n",
       "    <tr>\n",
       "      <th>max</th>\n",
       "      <td>1.330000e+07</td>\n",
       "      <td>16200.000000</td>\n",
       "      <td>6.000000</td>\n",
       "      <td>4.000000</td>\n",
       "      <td>4.000000</td>\n",
       "      <td>3.000000</td>\n",
       "    </tr>\n",
       "  </tbody>\n",
       "</table>\n",
       "</div>"
      ],
      "text/plain": [
       "              price          area    bedrooms   bathrooms     stories  \\\n",
       "count  5.450000e+02    545.000000  545.000000  545.000000  545.000000   \n",
       "mean   4.766729e+06   5150.541284    2.965138    1.286239    1.805505   \n",
       "std    1.870440e+06   2170.141023    0.738064    0.502470    0.867492   \n",
       "min    1.750000e+06   1650.000000    1.000000    1.000000    1.000000   \n",
       "25%    3.430000e+06   3600.000000    2.000000    1.000000    1.000000   \n",
       "50%    4.340000e+06   4600.000000    3.000000    1.000000    2.000000   \n",
       "75%    5.740000e+06   6360.000000    3.000000    2.000000    2.000000   \n",
       "max    1.330000e+07  16200.000000    6.000000    4.000000    4.000000   \n",
       "\n",
       "          parking  \n",
       "count  545.000000  \n",
       "mean     0.693578  \n",
       "std      0.861586  \n",
       "min      0.000000  \n",
       "25%      0.000000  \n",
       "50%      0.000000  \n",
       "75%      1.000000  \n",
       "max      3.000000  "
      ]
     },
     "execution_count": 6,
     "metadata": {},
     "output_type": "execute_result"
    }
   ],
   "source": [
    "data.describe()"
   ]
  },
  {
   "cell_type": "code",
   "execution_count": 7,
   "id": "bf493d63",
   "metadata": {
    "execution": {
     "iopub.execute_input": "2024-04-10T16:08:53.268834Z",
     "iopub.status.busy": "2024-04-10T16:08:53.268157Z",
     "iopub.status.idle": "2024-04-10T16:08:53.276225Z",
     "shell.execute_reply": "2024-04-10T16:08:53.274834Z"
    },
    "papermill": {
     "duration": 0.025128,
     "end_time": "2024-04-10T16:08:53.279048",
     "exception": false,
     "start_time": "2024-04-10T16:08:53.253920",
     "status": "completed"
    },
    "tags": []
   },
   "outputs": [
    {
     "data": {
      "text/plain": [
       "(545, 13)"
      ]
     },
     "execution_count": 7,
     "metadata": {},
     "output_type": "execute_result"
    }
   ],
   "source": [
    "data.shape"
   ]
  },
  {
   "cell_type": "code",
   "execution_count": 8,
   "id": "b8fca5c8",
   "metadata": {
    "execution": {
     "iopub.execute_input": "2024-04-10T16:08:53.308558Z",
     "iopub.status.busy": "2024-04-10T16:08:53.307988Z",
     "iopub.status.idle": "2024-04-10T16:08:53.841677Z",
     "shell.execute_reply": "2024-04-10T16:08:53.840562Z"
    },
    "papermill": {
     "duration": 0.552938,
     "end_time": "2024-04-10T16:08:53.845112",
     "exception": false,
     "start_time": "2024-04-10T16:08:53.292174",
     "status": "completed"
    },
    "tags": []
   },
   "outputs": [
    {
     "data": {
      "image/png": "[encoded data removed]",
      "text/plain": [
       "<Figure size 1000x800 with 2 Axes>"
      ]
     },
     "metadata": {},
     "output_type": "display_data"
    }
   ],
   "source": [
    "# Select only non-categorical columns\n",
    "non_categorical_data = data[['price', 'area', 'bedrooms', 'bathrooms', 'stories', 'parking']]\n",
    "\n",
    "# Calculate correlation matrix\n",
    "corr_matrix = non_categorical_data.corr()\n",
    "\n",
    "# Plot heatmap\n",
    "plt.figure(figsize=(10, 8))\n",
    "sns.heatmap(corr_matrix, annot=True, cmap='coolwarm', fmt=\".2f\")\n",
    "plt.title('Correlation Heatmap of Non-Categorical Variables')\n",
    "plt.show()"
   ]
  },
  {
   "cell_type": "markdown",
   "id": "5468cb06",
   "metadata": {
    "papermill": {
     "duration": 0.013056,
     "end_time": "2024-04-10T16:08:53.871783",
     "exception": false,
     "start_time": "2024-04-10T16:08:53.858727",
     "status": "completed"
    },
    "tags": []
   },
   "source": [
    "# 2. Simple Liner Regression"
   ]
  },
  {
   "cell_type": "markdown",
   "id": "7fa01087",
   "metadata": {
    "papermill": {
     "duration": 0.014034,
     "end_time": "2024-04-10T16:08:53.901305",
     "exception": false,
     "start_time": "2024-04-10T16:08:53.887271",
     "status": "completed"
    },
    "tags": []
   },
   "source": [
    "object: use area to make simple liner regression model and make prediction"
   ]
  },
  {
   "cell_type": "code",
   "execution_count": 9,
   "id": "cd321c8a",
   "metadata": {
    "execution": {
     "iopub.execute_input": "2024-04-10T16:08:53.931235Z",
     "iopub.status.busy": "2024-04-10T16:08:53.930764Z",
     "iopub.status.idle": "2024-04-10T16:08:53.940644Z",
     "shell.execute_reply": "2024-04-10T16:08:53.939450Z"
    },
    "papermill": {
     "duration": 0.027669,
     "end_time": "2024-04-10T16:08:53.943316",
     "exception": false,
     "start_time": "2024-04-10T16:08:53.915647",
     "status": "completed"
    },
    "tags": []
   },
   "outputs": [
    {
     "data": {
      "text/plain": [
       "0    13300000\n",
       "1    12250000\n",
       "2    12250000\n",
       "3    12215000\n",
       "4    11410000\n",
       "Name: price, dtype: int64"
      ]
     },
     "execution_count": 9,
     "metadata": {},
     "output_type": "execute_result"
    }
   ],
   "source": [
    "# define X and y\n",
    "X= data.loc[:,\"area\"]\n",
    "y= data.loc[:,'price']\n",
    "y.head()"
   ]
  },
  {
   "cell_type": "code",
   "execution_count": 10,
   "id": "a7552932",
   "metadata": {
    "execution": {
     "iopub.execute_input": "2024-04-10T16:08:53.974478Z",
     "iopub.status.busy": "2024-04-10T16:08:53.973354Z",
     "iopub.status.idle": "2024-04-10T16:08:53.981439Z",
     "shell.execute_reply": "2024-04-10T16:08:53.979613Z"
    },
    "papermill": {
     "duration": 0.026351,
     "end_time": "2024-04-10T16:08:53.984124",
     "exception": false,
     "start_time": "2024-04-10T16:08:53.957773",
     "status": "completed"
    },
    "tags": []
   },
   "outputs": [
    {
     "name": "stdout",
     "output_type": "stream",
     "text": [
      "(545, 1)\n"
     ]
    }
   ],
   "source": [
    "X = np.array(X).reshape(-1,1)\n",
    "print(X.shape)"
   ]
  },
  {
   "cell_type": "code",
   "execution_count": 11,
   "id": "8cb4e8bd",
   "metadata": {
    "execution": {
     "iopub.execute_input": "2024-04-10T16:08:54.015767Z",
     "iopub.status.busy": "2024-04-10T16:08:54.015321Z",
     "iopub.status.idle": "2024-04-10T16:08:54.041289Z",
     "shell.execute_reply": "2024-04-10T16:08:54.039685Z"
    },
    "papermill": {
     "duration": 0.046139,
     "end_time": "2024-04-10T16:08:54.044518",
     "exception": false,
     "start_time": "2024-04-10T16:08:53.998379",
     "status": "completed"
    },
    "tags": []
   },
   "outputs": [
    {
     "data": {
      "text/html": [
       "<style>#sk-container-id-1 {color: black;background-color: white;}#sk-container-id-1 pre{padding: 0;}#sk-container-id-1 div.sk-toggleable {background-color: white;}#sk-container-id-1 label.sk-toggleable__label {cursor: pointer;display: block;width: 100%;margin-bottom: 0;padding: 0.3em;box-sizing: border-box;text-align: center;}#sk-container-id-1 label.sk-toggleable__label-arrow:before {content: \"▸\";float: left;margin-right: 0.25em;color: #696969;}#sk-container-id-1 label.sk-toggleable__label-arrow:hover:before {color: black;}#sk-container-id-1 div.sk-estimator:hover label.sk-toggleable__label-arrow:before {color: black;}#sk-container-id-1 div.sk-toggleable__content {max-height: 0;max-width: 0;overflow: hidden;text-align: left;background-color: #f0f8ff;}#sk-container-id-1 div.sk-toggleable__content pre {margin: 0.2em;color: black;border-radius: 0.25em;background-color: #f0f8ff;}#sk-container-id-1 input.sk-toggleable__control:checked~div.sk-toggleable__content {max-height: 200px;max-width: 100%;overflow: auto;}#sk-container-id-1 input.sk-toggleable__control:checked~label.sk-toggleable__label-arrow:before {content: \"▾\";}#sk-container-id-1 div.sk-estimator input.sk-toggleable__control:checked~label.sk-toggleable__label {background-color: #d4ebff;}#sk-container-id-1 div.sk-label input.sk-toggleable__control:checked~label.sk-toggleable__label {background-color: #d4ebff;}#sk-container-id-1 input.sk-hidden--visually {border: 0;clip: rect(1px 1px 1px 1px);clip: rect(1px, 1px, 1px, 1px);height: 1px;margin: -1px;overflow: hidden;padding: 0;position: absolute;width: 1px;}#sk-container-id-1 div.sk-estimator {font-family: monospace;background-color: #f0f8ff;border: 1px dotted black;border-radius: 0.25em;box-sizing: border-box;margin-bottom: 0.5em;}#sk-container-id-1 div.sk-estimator:hover {background-color: #d4ebff;}#sk-container-id-1 div.sk-parallel-item::after {content: \"\";width: 100%;border-bottom: 1px solid gray;flex-grow: 1;}#sk-container-id-1 div.sk-label:hover label.sk-toggleable__label {background-color: #d4ebff;}#sk-container-id-1 div.sk-serial::before {content: \"\";position: absolute;border-left: 1px solid gray;box-sizing: border-box;top: 0;bottom: 0;left: 50%;z-index: 0;}#sk-container-id-1 div.sk-serial {display: flex;flex-direction: column;align-items: center;background-color: white;padding-right: 0.2em;padding-left: 0.2em;position: relative;}#sk-container-id-1 div.sk-item {position: relative;z-index: 1;}#sk-container-id-1 div.sk-parallel {display: flex;align-items: stretch;justify-content: center;background-color: white;position: relative;}#sk-container-id-1 div.sk-item::before, #sk-container-id-1 div.sk-parallel-item::before {content: \"\";position: absolute;border-left: 1px solid gray;box-sizing: border-box;top: 0;bottom: 0;left: 50%;z-index: -1;}#sk-container-id-1 div.sk-parallel-item {display: flex;flex-direction: column;z-index: 1;position: relative;background-color: white;}#sk-container-id-1 div.sk-parallel-item:first-child::after {align-self: flex-end;width: 50%;}#sk-container-id-1 div.sk-parallel-item:last-child::after {align-self: flex-start;width: 50%;}#sk-container-id-1 div.sk-parallel-item:only-child::after {width: 0;}#sk-container-id-1 div.sk-dashed-wrapped {border: 1px dashed gray;margin: 0 0.4em 0.5em 0.4em;box-sizing: border-box;padding-bottom: 0.4em;background-color: white;}#sk-container-id-1 div.sk-label label {font-family: monospace;font-weight: bold;display: inline-block;line-height: 1.2em;}#sk-container-id-1 div.sk-label-container {text-align: center;}#sk-container-id-1 div.sk-container {/* jupyter's `normalize.less` sets `[hidden] { display: none; }` but bootstrap.min.css set `[hidden] { display: none !important; }` so we also need the `!important` here to be able to override the default hidden behavior on the sphinx rendered scikit-learn.org. See: https://github.com/scikit-learn/scikit-learn/issues/21755 */display: inline-block !important;position: relative;}#sk-container-id-1 div.sk-text-repr-fallback {display: none;}</style><div id=\"sk-container-id-1\" class=\"sk-top-container\"><div class=\"sk-text-repr-fallback\"><pre>LinearRegression()</pre><b>In a Jupyter environment, please rerun this cell to show the HTML representation or trust the notebook. <br />On GitHub, the HTML representation is unable to render, please try loading this page with nbviewer.org.</b></div><div class=\"sk-container\" hidden><div class=\"sk-item\"><div class=\"sk-estimator sk-toggleable\"><input class=\"sk-toggleable__control sk-hidden--visually\" id=\"sk-estimator-id-1\" type=\"checkbox\" checked><label for=\"sk-estimator-id-1\" class=\"sk-toggleable__label sk-toggleable__label-arrow\">LinearRegression</label><div class=\"sk-toggleable__content\"><pre>LinearRegression()</pre></div></div></div></div></div>"
      ],
      "text/plain": [
       "LinearRegression()"
      ]
     },
     "execution_count": 11,
     "metadata": {},
     "output_type": "execute_result"
    }
   ],
   "source": [
    "#set up aliner regression model\n",
    "LR1 = LinearRegression()\n",
    "\n",
    "#train the model\n",
    "LR1.fit(X,y)"
   ]
  },
  {
   "cell_type": "code",
   "execution_count": 12,
   "id": "2880f7ce",
   "metadata": {
    "execution": {
     "iopub.execute_input": "2024-04-10T16:08:54.075540Z",
     "iopub.status.busy": "2024-04-10T16:08:54.075071Z",
     "iopub.status.idle": "2024-04-10T16:08:54.083278Z",
     "shell.execute_reply": "2024-04-10T16:08:54.081698Z"
    },
    "papermill": {
     "duration": 0.027536,
     "end_time": "2024-04-10T16:08:54.086535",
     "exception": false,
     "start_time": "2024-04-10T16:08:54.058999",
     "status": "completed"
    },
    "tags": []
   },
   "outputs": [
    {
     "name": "stdout",
     "output_type": "stream",
     "text": [
      "[5815162.19790048 6526603.53508057 6988578.42935335 5852120.18944231\n",
      " 5815162.19790048]\n"
     ]
    }
   ],
   "source": [
    "# Calculate predicted values\n",
    "y_predict_1 = LR1.predict(X)\n",
    "\n",
    "# Print the first 5 predicted values\n",
    "print(y_predict_1[:5]) "
   ]
  },
  {
   "cell_type": "code",
   "execution_count": 13,
   "id": "2ced9303",
   "metadata": {
    "execution": {
     "iopub.execute_input": "2024-04-10T16:08:54.117428Z",
     "iopub.status.busy": "2024-04-10T16:08:54.116960Z",
     "iopub.status.idle": "2024-04-10T16:08:54.538787Z",
     "shell.execute_reply": "2024-04-10T16:08:54.537315Z"
    },
    "papermill": {
     "duration": 0.440614,
     "end_time": "2024-04-10T16:08:54.541843",
     "exception": false,
     "start_time": "2024-04-10T16:08:54.101229",
     "status": "completed"
    },
    "tags": []
   },
   "outputs": [
    {
     "data": {
      "image/png": "[encoded data removed]",
      "text/plain": [
       "<Figure size 1000x600 with 1 Axes>"
      ]
     },
     "metadata": {},
     "output_type": "display_data"
    }
   ],
   "source": [
    "# Visualize the model\n",
    "plt.figure(figsize=(10, 6))\n",
    "plt.scatter(X, y, color='blue', label='Actual')\n",
    "plt.plot(X, y_predict_1, color='red', label='Predicted')\n",
    "plt.xlabel('Area')\n",
    "plt.ylabel('Price')\n",
    "plt.title('Linear Regression Model')\n",
    "plt.legend()\n",
    "plt.show()"
   ]
  },
  {
   "cell_type": "code",
   "execution_count": 14,
   "id": "a399eb19",
   "metadata": {
    "execution": {
     "iopub.execute_input": "2024-04-10T16:08:54.578070Z",
     "iopub.status.busy": "2024-04-10T16:08:54.577606Z",
     "iopub.status.idle": "2024-04-10T16:08:54.587533Z",
     "shell.execute_reply": "2024-04-10T16:08:54.586438Z"
    },
    "papermill": {
     "duration": 0.032157,
     "end_time": "2024-04-10T16:08:54.590745",
     "exception": false,
     "start_time": "2024-04-10T16:08:54.558588",
     "status": "completed"
    },
    "tags": []
   },
   "outputs": [
    {
     "name": "stdout",
     "output_type": "stream",
     "text": [
      "Mean Squared Error: 2488861398180.6567\n",
      "R-squared Score: 0.2872931546811469\n"
     ]
    }
   ],
   "source": [
    "# Calculate mean squared error\n",
    "mse = mean_squared_error(y, y_predict_1)\n",
    "\n",
    "# Calculate R-squared score\n",
    "r2 = r2_score(y, y_predict_1)\n",
    "\n",
    "print(\"Mean Squared Error:\", mse)\n",
    "print(\"R-squared Score:\", r2)"
   ]
  },
  {
   "cell_type": "markdown",
   "id": "91e231c4",
   "metadata": {
    "papermill": {
     "duration": 0.01521,
     "end_time": "2024-04-10T16:08:54.621599",
     "exception": false,
     "start_time": "2024-04-10T16:08:54.606389",
     "status": "completed"
    },
    "tags": []
   },
   "source": [
    "**Conclusion:**\n",
    "\n",
    "The linear regression model achieved a mean squared error of approximately 2.49 trillion and an R-squared score of approximately 0.29. The high MSE implies that there is a substantial deviation between the predicted and actual prices, indicating that the model's predictions are not consistently accurate. Additionally, the R-squared score of approximately 0.29 indicates that only 29% of the variability in the actual prices is accounted for by the model, The model's predictive performance is limited, indicating that other factors beyond the area may play significant roles in determining the property prices."
   ]
  },
  {
   "cell_type": "markdown",
   "id": "79c4fbea",
   "metadata": {
    "papermill": {
     "duration": 0.014914,
     "end_time": "2024-04-10T16:08:54.651804",
     "exception": false,
     "start_time": "2024-04-10T16:08:54.636890",
     "status": "completed"
    },
    "tags": []
   },
   "source": [
    "**Let's to use the model to predict the price:**"
   ]
  },
  {
   "cell_type": "code",
   "execution_count": 15,
   "id": "dcb58c20",
   "metadata": {
    "execution": {
     "iopub.execute_input": "2024-04-10T16:08:54.686684Z",
     "iopub.status.busy": "2024-04-10T16:08:54.685986Z",
     "iopub.status.idle": "2024-04-10T16:08:54.692990Z",
     "shell.execute_reply": "2024-04-10T16:08:54.692100Z"
    },
    "papermill": {
     "duration": 0.028411,
     "end_time": "2024-04-10T16:08:54.696003",
     "exception": false,
     "start_time": "2024-04-10T16:08:54.667592",
     "status": "completed"
    },
    "tags": []
   },
   "outputs": [
    {
     "name": "stdout",
     "output_type": "stream",
     "text": [
      "Predicted Price: [4766728.65434417]\n"
     ]
    }
   ],
   "source": [
    "area1 = 5150.54 # avearage area\n",
    "\n",
    "# Reshape the area value(s) to match the input shape expected by the model\n",
    "area1 = np.array(area1).reshape(-1, 1)\n",
    "\n",
    "# Use the trained model to predict the price for the given area value(s)\n",
    "predicted_area1 = LR1.predict(area1)\n",
    "\n",
    "print(\"Predicted Price:\", predicted_area1)\n"
   ]
  },
  {
   "cell_type": "code",
   "execution_count": 16,
   "id": "098f64b9",
   "metadata": {
    "execution": {
     "iopub.execute_input": "2024-04-10T16:08:54.729021Z",
     "iopub.status.busy": "2024-04-10T16:08:54.728322Z",
     "iopub.status.idle": "2024-04-10T16:08:54.735939Z",
     "shell.execute_reply": "2024-04-10T16:08:54.734588Z"
    },
    "papermill": {
     "duration": 0.02767,
     "end_time": "2024-04-10T16:08:54.738958",
     "exception": false,
     "start_time": "2024-04-10T16:08:54.711288",
     "status": "completed"
    },
    "tags": []
   },
   "outputs": [
    {
     "name": "stdout",
     "output_type": "stream",
     "text": [
      "Predicted Price: [9871301.76961552]\n"
     ]
    }
   ],
   "source": [
    "area2 = 16200 # maximun area\n",
    "\n",
    "# Reshape the area value(s) to match the input shape expected by the model\n",
    "area2 = np.array(area2).reshape(-1, 1)\n",
    "\n",
    "# Use the trained model to predict the price for the given area value(s)\n",
    "predicted_area2 = LR1.predict(area2)\n",
    "\n",
    "print(\"Predicted Price:\", predicted_area2)\n"
   ]
  },
  {
   "cell_type": "markdown",
   "id": "d62d1ec1",
   "metadata": {
    "papermill": {
     "duration": 0.017185,
     "end_time": "2024-04-10T16:08:54.772554",
     "exception": false,
     "start_time": "2024-04-10T16:08:54.755369",
     "status": "completed"
    },
    "tags": []
   },
   "source": [
    "# 3. Mutiple Liner Regression"
   ]
  },
  {
   "cell_type": "code",
   "execution_count": 17,
   "id": "0abb6467",
   "metadata": {
    "execution": {
     "iopub.execute_input": "2024-04-10T16:08:54.806703Z",
     "iopub.status.busy": "2024-04-10T16:08:54.805532Z",
     "iopub.status.idle": "2024-04-10T16:08:54.816178Z",
     "shell.execute_reply": "2024-04-10T16:08:54.814934Z"
    },
    "papermill": {
     "duration": 0.030596,
     "end_time": "2024-04-10T16:08:54.818858",
     "exception": false,
     "start_time": "2024-04-10T16:08:54.788262",
     "status": "completed"
    },
    "tags": []
   },
   "outputs": [
    {
     "name": "stdout",
     "output_type": "stream",
     "text": [
      "   area  bedrooms  bathrooms  stories  parking\n",
      "0  7420         4          2        3        2\n",
      "1  8960         4          4        4        3\n",
      "2  9960         3          2        2        2\n",
      "3  7500         4          2        2        3\n",
      "4  7420         4          1        2        2\n"
     ]
    }
   ],
   "source": [
    "# define X_multi, will only include non-category data for this exercises\n",
    "X_multi = non_categorical_data.drop([\"price\"],axis=1) #non_categorical_data already defined in section 1\n",
    "print(X_multi.head())"
   ]
  },
  {
   "cell_type": "code",
   "execution_count": 18,
   "id": "8b3f0f8e",
   "metadata": {
    "execution": {
     "iopub.execute_input": "2024-04-10T16:08:54.852336Z",
     "iopub.status.busy": "2024-04-10T16:08:54.851877Z",
     "iopub.status.idle": "2024-04-10T16:08:54.874506Z",
     "shell.execute_reply": "2024-04-10T16:08:54.872914Z"
    },
    "papermill": {
     "duration": 0.042722,
     "end_time": "2024-04-10T16:08:54.877446",
     "exception": false,
     "start_time": "2024-04-10T16:08:54.834724",
     "status": "completed"
    },
    "tags": []
   },
   "outputs": [
    {
     "data": {
      "text/html": [
       "<style>#sk-container-id-2 {color: black;background-color: white;}#sk-container-id-2 pre{padding: 0;}#sk-container-id-2 div.sk-toggleable {background-color: white;}#sk-container-id-2 label.sk-toggleable__label {cursor: pointer;display: block;width: 100%;margin-bottom: 0;padding: 0.3em;box-sizing: border-box;text-align: center;}#sk-container-id-2 label.sk-toggleable__label-arrow:before {content: \"▸\";float: left;margin-right: 0.25em;color: #696969;}#sk-container-id-2 label.sk-toggleable__label-arrow:hover:before {color: black;}#sk-container-id-2 div.sk-estimator:hover label.sk-toggleable__label-arrow:before {color: black;}#sk-container-id-2 div.sk-toggleable__content {max-height: 0;max-width: 0;overflow: hidden;text-align: left;background-color: #f0f8ff;}#sk-container-id-2 div.sk-toggleable__content pre {margin: 0.2em;color: black;border-radius: 0.25em;background-color: #f0f8ff;}#sk-container-id-2 input.sk-toggleable__control:checked~div.sk-toggleable__content {max-height: 200px;max-width: 100%;overflow: auto;}#sk-container-id-2 input.sk-toggleable__control:checked~label.sk-toggleable__label-arrow:before {content: \"▾\";}#sk-container-id-2 div.sk-estimator input.sk-toggleable__control:checked~label.sk-toggleable__label {background-color: #d4ebff;}#sk-container-id-2 div.sk-label input.sk-toggleable__control:checked~label.sk-toggleable__label {background-color: #d4ebff;}#sk-container-id-2 input.sk-hidden--visually {border: 0;clip: rect(1px 1px 1px 1px);clip: rect(1px, 1px, 1px, 1px);height: 1px;margin: -1px;overflow: hidden;padding: 0;position: absolute;width: 1px;}#sk-container-id-2 div.sk-estimator {font-family: monospace;background-color: #f0f8ff;border: 1px dotted black;border-radius: 0.25em;box-sizing: border-box;margin-bottom: 0.5em;}#sk-container-id-2 div.sk-estimator:hover {background-color: #d4ebff;}#sk-container-id-2 div.sk-parallel-item::after {content: \"\";width: 100%;border-bottom: 1px solid gray;flex-grow: 1;}#sk-container-id-2 div.sk-label:hover label.sk-toggleable__label {background-color: #d4ebff;}#sk-container-id-2 div.sk-serial::before {content: \"\";position: absolute;border-left: 1px solid gray;box-sizing: border-box;top: 0;bottom: 0;left: 50%;z-index: 0;}#sk-container-id-2 div.sk-serial {display: flex;flex-direction: column;align-items: center;background-color: white;padding-right: 0.2em;padding-left: 0.2em;position: relative;}#sk-container-id-2 div.sk-item {position: relative;z-index: 1;}#sk-container-id-2 div.sk-parallel {display: flex;align-items: stretch;justify-content: center;background-color: white;position: relative;}#sk-container-id-2 div.sk-item::before, #sk-container-id-2 div.sk-parallel-item::before {content: \"\";position: absolute;border-left: 1px solid gray;box-sizing: border-box;top: 0;bottom: 0;left: 50%;z-index: -1;}#sk-container-id-2 div.sk-parallel-item {display: flex;flex-direction: column;z-index: 1;position: relative;background-color: white;}#sk-container-id-2 div.sk-parallel-item:first-child::after {align-self: flex-end;width: 50%;}#sk-container-id-2 div.sk-parallel-item:last-child::after {align-self: flex-start;width: 50%;}#sk-container-id-2 div.sk-parallel-item:only-child::after {width: 0;}#sk-container-id-2 div.sk-dashed-wrapped {border: 1px dashed gray;margin: 0 0.4em 0.5em 0.4em;box-sizing: border-box;padding-bottom: 0.4em;background-color: white;}#sk-container-id-2 div.sk-label label {font-family: monospace;font-weight: bold;display: inline-block;line-height: 1.2em;}#sk-container-id-2 div.sk-label-container {text-align: center;}#sk-container-id-2 div.sk-container {/* jupyter's `normalize.less` sets `[hidden] { display: none; }` but bootstrap.min.css set `[hidden] { display: none !important; }` so we also need the `!important` here to be able to override the default hidden behavior on the sphinx rendered scikit-learn.org. See: https://github.com/scikit-learn/scikit-learn/issues/21755 */display: inline-block !important;position: relative;}#sk-container-id-2 div.sk-text-repr-fallback {display: none;}</style><div id=\"sk-container-id-2\" class=\"sk-top-container\"><div class=\"sk-text-repr-fallback\"><pre>LinearRegression()</pre><b>In a Jupyter environment, please rerun this cell to show the HTML representation or trust the notebook. <br />On GitHub, the HTML representation is unable to render, please try loading this page with nbviewer.org.</b></div><div class=\"sk-container\" hidden><div class=\"sk-item\"><div class=\"sk-estimator sk-toggleable\"><input class=\"sk-toggleable__control sk-hidden--visually\" id=\"sk-estimator-id-2\" type=\"checkbox\" checked><label for=\"sk-estimator-id-2\" class=\"sk-toggleable__label sk-toggleable__label-arrow\">LinearRegression</label><div class=\"sk-toggleable__content\"><pre>LinearRegression()</pre></div></div></div></div></div>"
      ],
      "text/plain": [
       "LinearRegression()"
      ]
     },
     "execution_count": 18,
     "metadata": {},
     "output_type": "execute_result"
    }
   ],
   "source": [
    "#set up mutiple linear model\n",
    "LR_multi = LinearRegression()\n",
    "\n",
    "#train the model\n",
    "LR_multi.fit(X_multi,y)"
   ]
  },
  {
   "cell_type": "code",
   "execution_count": 19,
   "id": "359b3c54",
   "metadata": {
    "execution": {
     "iopub.execute_input": "2024-04-10T16:08:54.914071Z",
     "iopub.status.busy": "2024-04-10T16:08:54.913635Z",
     "iopub.status.idle": "2024-04-10T16:08:54.923096Z",
     "shell.execute_reply": "2024-04-10T16:08:54.921522Z"
    },
    "papermill": {
     "duration": 0.029525,
     "end_time": "2024-04-10T16:08:54.925536",
     "exception": false,
     "start_time": "2024-04-10T16:08:54.896011",
     "status": "completed"
    },
    "tags": []
   },
   "outputs": [
    {
     "name": "stdout",
     "output_type": "stream",
     "text": [
      "[ 7648873.96926545 11351808.25562893  7774157.72976678  7505019.68808916\n",
      "  5967193.99706753]\n"
     ]
    }
   ],
   "source": [
    "# Calculate predicted values\n",
    "y_predict_multi = LR_multi.predict(X_multi)\n",
    "\n",
    "# Print the first 5 predicted values\n",
    "print(y_predict_multi[:5]) "
   ]
  },
  {
   "cell_type": "code",
   "execution_count": 20,
   "id": "c613feb2",
   "metadata": {
    "execution": {
     "iopub.execute_input": "2024-04-10T16:08:54.961528Z",
     "iopub.status.busy": "2024-04-10T16:08:54.961052Z",
     "iopub.status.idle": "2024-04-10T16:08:55.315457Z",
     "shell.execute_reply": "2024-04-10T16:08:55.313849Z"
    },
    "papermill": {
     "duration": 0.377691,
     "end_time": "2024-04-10T16:08:55.319574",
     "exception": false,
     "start_time": "2024-04-10T16:08:54.941883",
     "status": "completed"
    },
    "tags": []
   },
   "outputs": [
    {
     "data": {
      "image/png": "[encoded data removed]",
      "text/plain": [
       "<Figure size 1000x600 with 1 Axes>"
      ]
     },
     "metadata": {},
     "output_type": "display_data"
    }
   ],
   "source": [
    "# Visualize the model\n",
    "plt.figure(figsize=(10, 6))\n",
    "plt.scatter(X, y_predict_multi, color='blue')\n",
    "plt.xlabel('Area')\n",
    "plt.ylabel('Price')\n",
    "plt.title('Linear Regression Model')\n",
    "plt.legend()\n",
    "plt.show()\n"
   ]
  },
  {
   "cell_type": "code",
   "execution_count": 21,
   "id": "5f1fa49e",
   "metadata": {
    "execution": {
     "iopub.execute_input": "2024-04-10T16:08:55.358609Z",
     "iopub.status.busy": "2024-04-10T16:08:55.358203Z",
     "iopub.status.idle": "2024-04-10T16:08:55.366360Z",
     "shell.execute_reply": "2024-04-10T16:08:55.365235Z"
    },
    "papermill": {
     "duration": 0.030675,
     "end_time": "2024-04-10T16:08:55.369224",
     "exception": false,
     "start_time": "2024-04-10T16:08:55.338549",
     "status": "completed"
    },
    "tags": []
   },
   "outputs": [
    {
     "name": "stdout",
     "output_type": "stream",
     "text": [
      "Mean Squared Error Multi: 1531008562668.3982\n",
      "R-squared Score Multi: 0.5615825438679802\n"
     ]
    }
   ],
   "source": [
    "# Calculate mean squared error\n",
    "mse_multi = mean_squared_error(y, y_predict_multi)\n",
    "\n",
    "# Calculate R-squared score\n",
    "r2_multi = r2_score(y, y_predict_multi)\n",
    "\n",
    "print(\"Mean Squared Error Multi:\", mse_multi)\n",
    "print(\"R-squared Score Multi:\", r2_multi)"
   ]
  },
  {
   "cell_type": "markdown",
   "id": "c0b1360f",
   "metadata": {
    "papermill": {
     "duration": 0.016753,
     "end_time": "2024-04-10T16:08:55.403657",
     "exception": false,
     "start_time": "2024-04-10T16:08:55.386904",
     "status": "completed"
    },
    "tags": []
   },
   "source": [
    "**Conclusion:** \n",
    "\n",
    "Previous Results (Use only one varriant):\n",
    "\n",
    "Mean Squared Error: 2.49 trillion, \n",
    "R-squared Score: 0.29\n",
    "\n",
    "New Results (Use multi non-category varriant):\n",
    "\n",
    "Mean Squared Error: 1.53 trillion, \n",
    "R-squared Score: 0.56\n",
    "\n",
    "Comparison:\n",
    "The linear regression model with the new results exhibits improved performance compared to the previous model. The mean squared error has decreased significantly from approximately 2.49 trillion to 1.53 trillion, indicating that the deviation between predicted and actual prices is reduced. Additionally, the R-squared score has increased substantially from approximately 0.29 to 0.56, suggesting that the new model explains around 56% of the variance in actual prices, compared to only 29% explained by the previous model. Overall, the updated model demonstrates better predictive capability and explanatory power in estimating property prices based on area."
   ]
  },
  {
   "cell_type": "markdown",
   "id": "f8575ed4",
   "metadata": {
    "papermill": {
     "duration": 0.016864,
     "end_time": "2024-04-10T16:08:55.437696",
     "exception": false,
     "start_time": "2024-04-10T16:08:55.420832",
     "status": "completed"
    },
    "tags": []
   },
   "source": [
    "**Let's to use the model to predict the price:**"
   ]
  },
  {
   "cell_type": "markdown",
   "id": "ddeef986",
   "metadata": {
    "papermill": {
     "duration": 0.016299,
     "end_time": "2024-04-10T16:08:55.470755",
     "exception": false,
     "start_time": "2024-04-10T16:08:55.454456",
     "status": "completed"
    },
    "tags": []
   },
   "source": [
    "If there is a house like: area 20000 units,3 bedrooms,3 bathrooms,4 stories and 2 parking"
   ]
  },
  {
   "cell_type": "code",
   "execution_count": 22,
   "id": "6e2ec38f",
   "metadata": {
    "execution": {
     "iopub.execute_input": "2024-04-10T16:08:55.506450Z",
     "iopub.status.busy": "2024-04-10T16:08:55.505952Z",
     "iopub.status.idle": "2024-04-10T16:08:55.516760Z",
     "shell.execute_reply": "2024-04-10T16:08:55.515511Z"
    },
    "papermill": {
     "duration": 0.031757,
     "end_time": "2024-04-10T16:08:55.519311",
     "exception": false,
     "start_time": "2024-04-10T16:08:55.487554",
     "status": "completed"
    },
    "tags": []
   },
   "outputs": [
    {
     "name": "stdout",
     "output_type": "stream",
     "text": [
      "Predicted Price: [13705773.37304313]\n"
     ]
    },
    {
     "name": "stderr",
     "output_type": "stream",
     "text": [
      "/opt/conda/lib/python3.10/site-packages/sklearn/base.py:439: UserWarning: X does not have valid feature names, but LinearRegression was fitted with feature names\n",
      "  warnings.warn(\n"
     ]
    }
   ],
   "source": [
    "# Define the test data\n",
    "test1 = np.array([20000, 3, 3, 4, 3]).reshape(1, -1)\n",
    "\n",
    "# Use the trained multiple linear regression model to predict the price for the test data\n",
    "predicted_test1 = LR_multi.predict(test1)\n",
    "\n",
    "print(\"Predicted Price:\", predicted_test1)\n"
   ]
  },
  {
   "cell_type": "markdown",
   "id": "6e4c6413",
   "metadata": {
    "papermill": {
     "duration": 0.017578,
     "end_time": "2024-04-10T16:08:55.554117",
     "exception": false,
     "start_time": "2024-04-10T16:08:55.536539",
     "status": "completed"
    },
    "tags": []
   },
   "source": [
    "If there is a house like: area 7000 units,1 bedrooms,1 bathrooms,3 stories and 1 parking"
   ]
  },
  {
   "cell_type": "code",
   "execution_count": 23,
   "id": "a9480db6",
   "metadata": {
    "execution": {
     "iopub.execute_input": "2024-04-10T16:08:55.591178Z",
     "iopub.status.busy": "2024-04-10T16:08:55.590703Z",
     "iopub.status.idle": "2024-04-10T16:08:55.599171Z",
     "shell.execute_reply": "2024-04-10T16:08:55.597598Z"
    },
    "papermill": {
     "duration": 0.030999,
     "end_time": "2024-04-10T16:08:55.602840",
     "exception": false,
     "start_time": "2024-04-10T16:08:55.571841",
     "status": "completed"
    },
    "tags": []
   },
   "outputs": [
    {
     "name": "stdout",
     "output_type": "stream",
     "text": [
      "Predicted Price: [5495039.64566712]\n"
     ]
    },
    {
     "name": "stderr",
     "output_type": "stream",
     "text": [
      "/opt/conda/lib/python3.10/site-packages/sklearn/base.py:439: UserWarning: X does not have valid feature names, but LinearRegression was fitted with feature names\n",
      "  warnings.warn(\n"
     ]
    }
   ],
   "source": [
    "# Define the test data\n",
    "test2 = np.array([7000, 1, 1, 3, 1]).reshape(1, -1)\n",
    "\n",
    "# Use the trained multiple linear regression model to predict the price for the test data\n",
    "predicted_test2 = LR_multi.predict(test2)\n",
    "\n",
    "print(\"Predicted Price:\", predicted_test2)\n"
   ]
  },
  {
   "cell_type": "markdown",
   "id": "7698d74b",
   "metadata": {
    "papermill": {
     "duration": 0.016756,
     "end_time": "2024-04-10T16:08:55.636686",
     "exception": false,
     "start_time": "2024-04-10T16:08:55.619930",
     "status": "completed"
    },
    "tags": []
   },
   "source": [
    "Calculate for average: approximately area 5150.54, units,3 bedrooms,1 bathrooms,2 stories and 1 parking"
   ]
  },
  {
   "cell_type": "code",
   "execution_count": 24,
   "id": "94e97720",
   "metadata": {
    "execution": {
     "iopub.execute_input": "2024-04-10T16:08:55.672904Z",
     "iopub.status.busy": "2024-04-10T16:08:55.672471Z",
     "iopub.status.idle": "2024-04-10T16:08:55.681057Z",
     "shell.execute_reply": "2024-04-10T16:08:55.679695Z"
    },
    "papermill": {
     "duration": 0.03111,
     "end_time": "2024-04-10T16:08:55.684973",
     "exception": false,
     "start_time": "2024-04-10T16:08:55.653863",
     "status": "completed"
    },
    "tags": []
   },
   "outputs": [
    {
     "name": "stdout",
     "output_type": "stream",
     "text": [
      "Predicted Price: [4670334.54832445]\n"
     ]
    },
    {
     "name": "stderr",
     "output_type": "stream",
     "text": [
      "/opt/conda/lib/python3.10/site-packages/sklearn/base.py:439: UserWarning: X does not have valid feature names, but LinearRegression was fitted with feature names\n",
      "  warnings.warn(\n"
     ]
    }
   ],
   "source": [
    "# Define the test data\n",
    "test_ave = np.array([5150.54, 3, 1, 2, 1]).reshape(1, -1)\n",
    "\n",
    "# Use the trained multiple linear regression model to predict the price for the test data\n",
    "predicted_test_ave = LR_multi.predict(test_ave)\n",
    "\n",
    "print(\"Predicted Price:\", predicted_test_ave)\n"
   ]
  },
  {
   "cell_type": "markdown",
   "id": "5a3afcd2",
   "metadata": {
    "papermill": {
     "duration": 0.01685,
     "end_time": "2024-04-10T16:08:55.719052",
     "exception": false,
     "start_time": "2024-04-10T16:08:55.702202",
     "status": "completed"
    },
    "tags": []
   },
   "source": [
    "# 4. Discussion"
   ]
  },
  {
   "cell_type": "markdown",
   "id": "2b4eea12",
   "metadata": {
    "papermill": {
     "duration": 0.01681,
     "end_time": "2024-04-10T16:08:55.753317",
     "exception": false,
     "start_time": "2024-04-10T16:08:55.736507",
     "status": "completed"
    },
    "tags": []
   },
   "source": [
    "In this exercise, I utilized two different approaches to build predictive models for property prices based on a given dataset. In the first model, I employed simple linear regression with a single variable, specifically the \"area\" of the properties. This basic model provided a starting point to understand the relationship between the area and prices of properties. Then, I constructed a second model using multiple linear regression, incorporating additional non-categorical data features from the dataset. This model proved to be significantly more effective in predicting property prices compared to the first model. \n",
    "\n",
    "Moving forward, there are several strategies I plan to explore to further improve the predictive accuracy of my models. Firstly, I intend to incorporate categorical variables by applying techniques such as one-hot encoding to represent them numerically. Additionally, I will explore feature engineering to create new features that capture important relationships between existing variables.\n",
    "\n",
    "Moreover, I recognize the value of cross-validation techniques to evaluate the robustness of my models and ensure their generalization to unseen data. By applying these methodologies and drawing from the knowledge acquired in my class, I aim to refine my models and enhance their predictive performance.\n",
    "\n",
    "In conclusion, while my initial models provide valuable insights into property price prediction, there remains ample room for refinement and improvement. I look forward to further exploration and experimentation to develop more accurate and reliable predictive models.\n",
    "\n",
    "Thank you for reading, and feel free to comment."
   ]
  }
 ],
 "metadata": {
  "kaggle": {
   "accelerator": "none",
   "dataSources": [
    {
     "datasetId": 3489360,
     "sourceId": 6092787,
     "sourceType": "datasetVersion"
    }
   ],
   "dockerImageVersionId": 30664,
   "isGpuEnabled": false,
   "isInternetEnabled": true,
   "language": "python",
   "sourceType": "notebook"
  },
  "kernelspec": {
   "display_name": "Python 3",
   "language": "python",
   "name": "python3"
  },
  "language_info": {
   "codemirror_mode": {
    "name": "ipython",
    "version": 3
   },
   "file_extension": ".py",
   "mimetype": "text/x-python",
   "name": "python",
   "nbconvert_exporter": "python",
   "pygments_lexer": "ipython3",
   "version": "3.10.13"
  },
  "papermill": {
   "default_parameters": {},
   "duration": 10.775287,
   "end_time": "2024-04-10T16:08:56.594682",
   "environment_variables": {},
   "exception": null,
   "input_path": "__notebook__.ipynb",
   "output_path": "__notebook__.ipynb",
   "parameters": {},
   "start_time": "2024-04-10T16:08:45.819395",
   "version": "2.5.0"
  }
 },
 "nbformat": 4,
 "nbformat_minor": 5
}
